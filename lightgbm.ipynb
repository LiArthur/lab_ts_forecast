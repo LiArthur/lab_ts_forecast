{
 "cells": [
  {
   "cell_type": "code",
   "execution_count": null,
   "metadata": {},
   "outputs": [],
   "source": [
    "!pip3 install --upgrade --user pip lightgbm"
   ]
  },
  {
   "cell_type": "code",
   "execution_count": null,
   "metadata": {
    "scrolled": true
   },
   "outputs": [],
   "source": [
    "# !pip install pystan==2.14\n",
    "# !pip install fbprophet\n",
    "# or below is better\n",
    "!conda install -c plotly plotly==3.10.0 --yes\n",
    "!conda install -c conda-forge fbprophet --yes"
   ]
  },
  {
   "cell_type": "code",
   "execution_count": null,
   "metadata": {
    "scrolled": true
   },
   "outputs": [],
   "source": [
    "!wget -O timeseries_raw.csv https://sagemaker-us-west-2-169088282855.s3-us-west-2.amazonaws.com/miya/timeseries_raw.csv\n",
    "!wget -O shenzhen_weather.csv https://sagemaker-us-west-2-169088282855.s3-us-west-2.amazonaws.com/miya/shenzhen_weather.csv"
   ]
  },
  {
   "cell_type": "code",
   "execution_count": null,
   "metadata": {},
   "outputs": [],
   "source": [
    "%matplotlib inline\n",
    "import numpy as np\n",
    "import pandas as pd\n",
    "import matplotlib.pyplot as plt\n",
    "plt.style.use('dark_background')\n",
    "\n",
    "from sklearn import preprocessing\n",
    "\n",
    "import json\n",
    "\n",
    "import lightgbm as lgb\n",
    "\n",
    "from lightgbm import plot_importance, plot_tree\n",
    "\n",
    "try:\n",
    "    # To enable interactive mode you should install ipywidgets\n",
    "    # https://github.com/jupyter-widgets/ipywidgets\n",
    "    from ipywidgets import interact, SelectMultiple\n",
    "    INTERACTIVE = True\n",
    "except ImportError:\n",
    "    INTERACTIVE = False"
   ]
  },
  {
   "cell_type": "markdown",
   "metadata": {},
   "source": [
    "## Data Prepare"
   ]
  },
  {
   "cell_type": "code",
   "execution_count": null,
   "metadata": {},
   "outputs": [],
   "source": [
    "df_weather = pd.read_csv('shenzhen_weather.csv', header=0, sep=',', parse_dates=[0])\n",
    "df_weather.set_index(['date'], inplace=True)\n",
    "\n",
    "df_weather"
   ]
  },
  {
   "cell_type": "code",
   "execution_count": null,
   "metadata": {},
   "outputs": [],
   "source": [
    "df = pd.read_csv('timeseries_raw.csv', header=None, sep=',', parse_dates=[0])\n",
    "df.rename(columns={0:\"date\"}, inplace=True)\n",
    "df.set_index(['date'], inplace=True)\n",
    "\n",
    "df = df[~df.index.isnull()]\n",
    "\n",
    "df.head()"
   ]
  },
  {
   "cell_type": "code",
   "execution_count": null,
   "metadata": {},
   "outputs": [],
   "source": [
    "df.describe()"
   ]
  },
  {
   "cell_type": "code",
   "execution_count": null,
   "metadata": {},
   "outputs": [],
   "source": [
    "# 2019-07-10 00:00:00 to 2019-10-09 23:59:59\n",
    "\n",
    "DATETIME_START_OF_TRAIN = \"2019-07-10 00:00:00\"\n",
    "DATETIME_END_OF_TRAIN = \"2019-09-17 00:00:00\"\n",
    "DATETIME_START_OF_TEST = DATETIME_END_OF_TRAIN\n",
    "DATETIME_END_OF_TEST = \"2019-09-24 00:00:00\"\n",
    "DATETIME_START_OF_PREDICT = DATETIME_END_OF_TEST\n",
    "DATETIME_END_OF_PREDICT = \"2019-10-01 00:00:00\"\n",
    "\n",
    "freq = '1D'\n",
    "prediction_length = 7\n",
    "context_length = 14\n",
    "\n",
    "cols = [24, 31, 36]"
   ]
  },
  {
   "cell_type": "code",
   "execution_count": null,
   "metadata": {},
   "outputs": [],
   "source": [
    "_ = df.loc[:, cols].plot(style='-', figsize=(15,5), title='site: 24, 31, 36')"
   ]
  },
  {
   "cell_type": "code",
   "execution_count": null,
   "metadata": {},
   "outputs": [],
   "source": [
    "df_train = df.loc[df.index <= DATETIME_START_OF_TEST, :].copy()\n",
    "df_test = df.loc[(df.index >= DATETIME_START_OF_TEST) & (df.index <= DATETIME_START_OF_PREDICT), :].copy()"
   ]
  },
  {
   "cell_type": "code",
   "execution_count": null,
   "metadata": {},
   "outputs": [],
   "source": [
    "def create_features(df, df_weather, label=None):\n",
    "    \"\"\"\n",
    "    Creates time series features from datetime index\n",
    "    \"\"\"\n",
    "    df['date'] = df.index\n",
    "    #df['hour'] = df['date'].dt.hour\n",
    "    df['dayofweek'] = df['date'].dt.dayofweek\n",
    "    #df['quarter'] = df['date'].dt.quarter\n",
    "    df['month'] = df['date'].dt.month\n",
    "    #df['year'] = df['date'].dt.year\n",
    "    df['dayofyear'] = df['date'].dt.dayofyear\n",
    "    df['dayofmonth'] = df['date'].dt.day\n",
    "    df['weekofyear'] = df['date'].dt.weekofyear\n",
    "    \n",
    "    X = df[['dayofweek', 'month',]]\n",
    "    #X = df[['dayofyear','dayofmonth','weekofyear']]\n",
    "    \n",
    "    X = X.join(df_weather, how='left')\n",
    "\n",
    "    if label:\n",
    "        y = df[label]\n",
    "        return X, y\n",
    "    return X"
   ]
  },
  {
   "cell_type": "markdown",
   "metadata": {},
   "source": [
    "## Configuration"
   ]
  },
  {
   "cell_type": "code",
   "execution_count": null,
   "metadata": {},
   "outputs": [],
   "source": [
    "params = {\n",
    "    'num_leaves': 5,\n",
    "    'metric': ['l1', 'l2'],\n",
    "    'verbose': -1\n",
    "}"
   ]
  },
  {
   "cell_type": "markdown",
   "metadata": {},
   "source": [
    "## Fit Model"
   ]
  },
  {
   "cell_type": "code",
   "execution_count": null,
   "metadata": {},
   "outputs": [],
   "source": [
    "col = 300\n",
    "    \n",
    "X_train, y_train = create_features(df_train, df_weather, label=col)\n",
    "X_test, y_test = create_features(df_test, df_weather, label=col)\n",
    "\n",
    "lgb_train = lgb.Dataset(X_train, y_train)\n",
    "lgb_test = lgb.Dataset(X_test, y_test, reference=lgb_train)\n",
    "\n",
    "evals_result = {}  # to record eval results for plotting\n",
    "gbm = lgb.train(params,\n",
    "                lgb_train,\n",
    "                num_boost_round=400,\n",
    "                valid_sets=[lgb_train, lgb_test],\n",
    "                #feature_name=['f' + str(i + 1) for i in range(X_train.shape[-1])],\n",
    "                #categorical_feature=[\"dayofweek\"],\n",
    "                evals_result=evals_result,\n",
    "                verbose_eval=10)\n",
    "\n",
    "_ = plot_importance(gbm, height=0.9)"
   ]
  },
  {
   "cell_type": "markdown",
   "metadata": {},
   "source": [
    "## Predict"
   ]
  },
  {
   "cell_type": "code",
   "execution_count": null,
   "metadata": {},
   "outputs": [],
   "source": [
    "df_test['prediction'] = gbm.predict(X_test)\n",
    "df_all = pd.concat([df_test, df_train], sort=False)\n",
    "_ = df_all[[col,'prediction']].plot(figsize=(15, 5))"
   ]
  },
  {
   "cell_type": "markdown",
   "metadata": {},
   "source": [
    "## Evaluation"
   ]
  },
  {
   "cell_type": "markdown",
   "metadata": {},
   "source": [
    "## Evaluate All Sites"
   ]
  },
  {
   "cell_type": "code",
   "execution_count": null,
   "metadata": {},
   "outputs": [],
   "source": [
    "for col in cols:\n",
    "    X_train, y_train = create_features(df_train, df_weather, label=col)\n",
    "    X_test, y_test = create_features(df_test, df_weather, label=col)\n",
    "    \n",
    "    lgb_train = lgb.Dataset(X_train, y_train)\n",
    "    lgb_test = lgb.Dataset(X_test, y_test, reference=lgb_train)\n",
    "    \n",
    "    evals_result = {}  # to record eval results for plotting\n",
    "    gbm = lgb.train(params,\n",
    "                    lgb_train,\n",
    "                    num_boost_round=400,\n",
    "                    valid_sets=[lgb_train, lgb_test],\n",
    "                    #feature_name=['f' + str(i + 1) for i in range(X_train.shape[-1])],\n",
    "                    #categorical_feature=[\"dayofweek\"],\n",
    "                    evals_result=evals_result,\n",
    "                    verbose_eval=10)\n",
    "    \n",
    "    _ = plot_importance(gbm, height=0.9)\n",
    "    \n",
    "    df_test['prediction'] = gbm.predict(X_test)\n",
    "    df_all = pd.concat([df_test, df_train], sort=False)\n",
    "    _ = df_all[[col,'prediction']].plot(figsize=(15, 5))"
   ]
  },
  {
   "cell_type": "code",
   "execution_count": null,
   "metadata": {},
   "outputs": [],
   "source": []
  }
 ],
 "metadata": {
  "kernelspec": {
   "display_name": "conda_python3",
   "language": "python",
   "name": "conda_python3"
  },
  "language_info": {
   "codemirror_mode": {
    "name": "ipython",
    "version": 3
   },
   "file_extension": ".py",
   "mimetype": "text/x-python",
   "name": "python",
   "nbconvert_exporter": "python",
   "pygments_lexer": "ipython3",
   "version": "3.6.5"
  }
 },
 "nbformat": 4,
 "nbformat_minor": 4
}
