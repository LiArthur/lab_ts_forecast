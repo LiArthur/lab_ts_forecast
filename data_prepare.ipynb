{
 "cells": [
  {
   "cell_type": "markdown",
   "metadata": {},
   "source": [
    "# Data Prepare"
   ]
  },
  {
   "cell_type": "markdown",
   "metadata": {},
   "source": [
    "Download, pre-process and analyze data"
   ]
  },
  {
   "cell_type": "markdown",
   "metadata": {},
   "source": [
    "## Download Data"
   ]
  },
  {
   "cell_type": "code",
   "execution_count": 1,
   "metadata": {},
   "outputs": [
    {
     "name": "stdout",
     "output_type": "stream",
     "text": [
      "fatal error: An error occurred (AccessDenied) when calling the ListObjectsV2 operation: Access Denied\n"
     ]
    }
   ],
   "source": [
    "!aws s3 cp --recursive s3://app-miya/data/ data/"
   ]
  },
  {
   "cell_type": "code",
   "execution_count": null,
   "metadata": {},
   "outputs": [],
   "source": [
    "#!sed -i \"s/^M//g\" data/aws_market_label.csv  # type ^M using ctrl(control)+v+m\n",
    "!sed -i -e ':a' -e 'N' -e '$!ba' -e \"s/\\n(/(/g\" data/aws_market_label.csv"
   ]
  },
  {
   "cell_type": "code",
   "execution_count": null,
   "metadata": {},
   "outputs": [],
   "source": [
    "#!sed -i \"s/^M//g\" data/aws_user_behavior.csv  # type ^M using ctrl(control)+v+m\n",
    "#!sed -i -e ':a' -e 'N' -e '$!ba' -e \"s/\\n(/(/g\" data/aws_user_behavior.csv  # Not stable! Use python code instead!"
   ]
  },
  {
   "cell_type": "markdown",
   "metadata": {},
   "source": [
    "## Pre-Process Data"
   ]
  },
  {
   "cell_type": "code",
   "execution_count": 1,
   "metadata": {},
   "outputs": [
    {
     "name": "stdout",
     "output_type": "stream",
     "text": [
      "02440107010111244,00103,福民,3,超市,114.052,22.5237,[{\"POI\":\"B02F37U19M\",\"name\":\"天虹商场(福民店)\",\"type\":\"购物服务;商场;购物中心\",\"direction\":\"东南\",\"distance\":\"163.059\",\"location\":\"114.053041,22.522593\",\"poiweight\":\"0.529517\"},{\"POI\":\"B02F37V58E\",\"name\":\"招商银行(深圳福民支行)\",\"type\":\"金融保险服务;银行;招商银行\",\"direction\":\"南\",\"distance\":\"123.41\",\"location\":\"114.052319,22.522630\",\"poiweight\":\"0.502848\"},{\"POI\":\"B02F37SZT4\",\"name\":\"中国银行(福民支行)\",\"type\":\"金融保险服务;银行;中国银行\",\"direction\":\"东\",\"distance\":\"136.4\",\"location\":\"114.053322,22.523584\",\"poiweight\":\"0.428879\"},{\"POI\":\"B02F309T28\",\"name\":\"平安银行(石厦支行)\",\"type\":\"金融保险服务;银行;平安银行\",\"direction\":\"西南\",\"distance\":\"155.886\",\"location\":\"114.051035,22.522618\",\"poiweight\":\"0.372843\"},{\"POI\":\"B02F30857B\",\"name\":\"深圳市福田区石厦学校中学部\",\"type\":\"科教文化服务;学校;中学\",\"direction\":\"西\",\"distance\":\"101.893\",\"location\":\"114.051029,22.523887\",\"poiweight\":\"0.325091\"},{\"POI\":\"B02F37U0ZV\",\"name\":\"深圳市福田区石厦学校小学部\",\"type\":\"科教文化服务;学校;小学\",\"direction\":\"东北\",\"distance\":\"110.529\",\"location\":\"114.052753,22.524410\",\"poiweight\":\"0.353174\"},{\"POI\":\"B02F37VFJU\",\"name\":\"中央花园\",\"type\":\"商务住宅;住宅区;住宅小区\",\"direction\":\"东\",\"distance\":\"98.509\",\"location\":\"114.05289,22.52337\",\"poiweight\":\"0.504912\"},{\"POI\":\"BV10243850\",\"name\":\"石厦(地铁站)\",\"type\":\"交通设施服务;地铁站;地铁站\",\"direction\":\"东\",\"distance\":\"166.006\",\"location\":\"114.053616,22.523708\",\"poiweight\":\"0.6\"},{\"POI\":\"B02F37RN31\",\"name\":\"众孚大厦\",\"type\":\"商务住宅;楼宇;商住两用楼宇\",\"direction\":\"南\",\"distance\":\"139.566\",\"location\":\"114.052286,22.522473\",\"poiweight\":\"0.439271\"},{\"POI\":\"B0FFHJDLE9\",\"name\":\"中国农业银行(深圳新洲支行)(装修中)\",\"type\":\"金融保险服务;银行;中国农业银行\",\"direction\":\"东南\",\"distance\":\"197.872\",\"location\":\"114.053251,22.522347\",\"poiweight\":\"0.37247\"},{\"POI\":\"B02F37TF87\",\"name\":\"竞争力英语培训中心\",\"type\":\"科教文化服务;培训机构;培训机构\",\"direction\":\"南\",\"distance\":\"128.503\",\"location\":\"114.052224,22.522563\",\"poiweight\":\"0.183375\"},{\"POI\":\"B02F38R970\",\"name\":\"赣冠五洲职业培训学校\",\"type\":\"科教文化服务;学校;职业技术学校\",\"direction\":\"南\",\"distance\":\"128.503\",\"location\":\"114.052224,22.522563\",\"poiweight\":\"0.251065\"},{\"POI\":\"B0FFG68T7N\",\"name\":\"邦德教育(中央花园分校)\",\"type\":\"科教文化服务;培训机构;培训机构\",\"direction\":\"东\",\"distance\":\"138.55\",\"location\":\"114.053306,22.523389\",\"poiweight\":\"0.200789\"},{\"POI\":\"B0FFF5UAP2\",\"name\":\"博尔思教育(石厦分校)\",\"type\":\"科教文化服务;培训机构;培训机构\",\"direction\":\"东\",\"distance\":\"138.55\",\"location\":\"114.053306,22.523389\",\"poiweight\":\"0.197359\"},{\"POI\":\"B02F37VU41\",\"name\":\"深圳市福田区丽阳幼儿园\",\"type\":\"科教文化服务;学校;幼儿园\",\"direction\":\"西北\",\"distance\":\"174.081\",\"location\":\"114.051268,22.525112\",\"poiweight\":\"0.268878\"},{\"POI\":\"B02F37VWRZ\",\"name\":\"博雅石厦第一幼儿园\",\"type\":\"科教文化服务;学校;幼儿园\",\"direction\":\"北\",\"distance\":\"178.323\",\"location\":\"114.052453,22.525248\",\"poiweight\":\"0.289342\"},{\"POI\":\"B0FFFD8OTW\",\"name\":\"舞越舞蹈艺术培训中心(石厦总部)\",\"type\":\"科教文化服务;培训机构;培训机构\",\"direction\":\"西北\",\"distance\":\"185.766\",\"location\":\"114.051000,22.525092\",\"poiweight\":\"0.197038\"},{\"POI\":\"B0FFG69K6I\",\"name\":\"乐恩特教育(石厦北四街)\",\"type\":\"科教文化服务;培训机构;培训机构\",\"direction\":\"西北\",\"distance\":\"184.508\",\"location\":\"114.051175,22.525174\",\"poiweight\":\"0.200789\"},{\"POI\":\"B0FFG6EZY7\",\"name\":\"蓝天教育(石厦北五街)\",\"type\":\"科教文化服务;培训机构;培训机构\",\"direction\":\"西北\",\"distance\":\"197.705\",\"location\":\"114.051079,22.525261\",\"poiweight\":\"0.200224\"},{\"POI\":\"B02F38WW2L\",\"name\":\"长乐阁\",\"type\":\"商务住宅;商务住宅相关;商务住宅相关\",\"direction\":\"东\",\"distance\":\"18.7727\",\"location\":\"114.052178,22.523662\",\"poiweight\":\"0.110041\"},{\"POI\":\"B02F38P6GC\",\"name\":\"幸福阁\",\"type\":\"商务住宅;住宅区;住宅区\",\"direction\":\"南\",\"distance\":\"118.705\",\"location\":\"114.052184,22.522646\",\"poiweight\":\"0.273205\"},{\"POI\":\"B02F37W8H8\",\"name\":\"众孚新村\",\"type\":\"商务住宅;住宅区;住宅小区\",\"direction\":\"西南\",\"distance\":\"157.659\",\"location\":\"114.051347,22.522417\",\"poiweight\":\"0.355243\"},{\"POI\":\"B02F38P61C\",\"name\":\"星朗轩\",\"type\":\"商务住宅;商务住宅相关;商务住宅相关\",\"direction\":\"东南\",\"distance\":\"166.46\",\"location\":\"114.052620,22.522317\",\"poiweight\":\"0.130847\"},{\"POI\":\"B02F37TMC9\",\"name\":\"星河明居\",\"type\":\"商务住宅;住宅区;住宅小区\",\"direction\":\"东南\",\"distance\":\"175.329\",\"location\":\"114.053057,22.522462\",\"poiweight\":\"0.437688\"},{\"POI\":\"B02F37TMDP\",\"name\":\"星逸轩\",\"type\":\"商务住宅;住宅区;住宅小区\",\"direction\":\"东南\",\"distance\":\"195.207\",\"location\":\"114.053319,22.522436\",\"poiweight\":\"0.313012\"},{\"POI\":\"B02F37TJC1\",\"name\":\"石厦杨侯宫\",\"type\":\"风景名胜;风景名胜;风景名胜\",\"direction\":\"南\",\"distance\":\"181.599\",\"location\":\"114.051989,22.522067\",\"poiweight\":\"0.446426\"},{\"POI\":\"B02F37UAQW\",\"name\":\"缔馨园\",\"type\":\"商务住宅;住宅区;住宅小区\",\"direction\":\"北\",\"distance\":\"176.697\",\"location\":\"114.051684,22.525262\",\"poiweight\":\"0.377136\"},{\"POI\":\"B00141K0M0\",\"name\":\"石厦\",\"type\":\"地名地址信息;热点地名;热点地名\",\"direction\":\"南\",\"distance\":\"100.617\",\"location\":\"114.051899,22.522800\",\"poiweight\":\"0.400088\"},{\"POI\":\"B02F309XDE\",\"name\":\"红荔村肠粉(众孚店)\",\"type\":\"餐饮服务;中餐厅;中餐厅\",\"direction\":\"南\",\"distance\":\"123.098\",\"location\":\"114.051719,22.522624\",\"poiweight\":\"0.436765\"},{\"POI\":\"B0FFG7GUAW\",\"name\":\"北龙湾饺子(石厦店)\",\"type\":\"餐饮服务;中餐厅;特色/地方风味餐厅\",\"direction\":\"西南\",\"distance\":\"130.26\",\"location\":\"114.051501,22.522623\",\"poiweight\":\"0.227877\"}],,,,,20191009\n"
     ]
    }
   ],
   "source": [
    "!head -n 1 data/aws_market_label.csv"
   ]
  },
  {
   "cell_type": "code",
   "execution_count": 2,
   "metadata": {},
   "outputs": [],
   "source": [
    "fin = open('data/aws_market_label.csv', 'r')\n",
    "fout = open('data/aws_market_label.tsv', 'w')\n",
    "while True:\n",
    "    line = fin.readline()\n",
    "    if not line:\n",
    "        break\n",
    "    params = line.strip().split(',')\n",
    "    new_line = '\\t'.join(params[:7])+'\\t'+','.join(params[7:-5]).replace('\\t', '')+'\\t'+'\\t'.join(params[-5:])\n",
    "    fout.write(new_line+'\\n')\n",
    "fin.close()\n",
    "fout.close()"
   ]
  },
  {
   "cell_type": "code",
   "execution_count": 3,
   "metadata": {},
   "outputs": [
    {
     "name": "stdout",
     "output_type": "stream",
     "text": [
      "1,088911974338715,3,超市,440000,广东省,440300,深圳市,8ef4453659644a8daea008eaf6c2e656,,,detention,其他,深圳市,广东省,下午,20191009\n"
     ]
    }
   ],
   "source": [
    "!head -n 1 data/aws_user_label.csv"
   ]
  },
  {
   "cell_type": "code",
   "execution_count": 4,
   "metadata": {},
   "outputs": [
    {
     "name": "stdout",
     "output_type": "stream",
     "text": [
      "11,201600022,3,超市,440000,广东省,440300,深圳市,49507b9b1628d97b529b1a2b67cffd8a,90051,天虹便利生活超市邮政六约锦荟,2019071022001400141042394462,,13.0,0.0,0.0,3,19,2,2019-07-10 19:16:50,20190710\n"
     ]
    }
   ],
   "source": [
    "!head -n 1 data/aws_user_behavior.csv"
   ]
  },
  {
   "cell_type": "code",
   "execution_count": null,
   "metadata": {
    "scrolled": true
   },
   "outputs": [],
   "source": [
    "fin = open('data/aws_user_behavior.csv', 'r')\n",
    "fout = open('data/aws_user_behavior.tsv', 'w')\n",
    "while True:\n",
    "    line = fin.readline()\n",
    "    if not line:\n",
    "        break\n",
    "    params = line.strip().split(',')\n",
    "    if len(params) < 12:\n",
    "        next_line = fin.readline()\n",
    "        line = line.strip()+next_line.strip()\n",
    "        params = line.strip().split(',')\n",
    "    new_line = '\\t'.join(params[:12])+'\\t'+','.join(params[12:-8]).replace('\\t', '')+'\\t'+'\\t'.join(params[-8:])\n",
    "    fout.write(new_line+'\\n')\n",
    "fin.close()\n",
    "fout.close()"
   ]
  },
  {
   "cell_type": "code",
   "execution_count": 5,
   "metadata": {},
   "outputs": [],
   "source": [
    "%matplotlib inline\n",
    "import numpy as np\n",
    "import pandas as pd\n",
    "import matplotlib\n",
    "import matplotlib.pyplot as plt\n",
    "plt.rcParams['agg.path.chunksize'] = 10000\n",
    "plt.rcParams['figure.figsize'] = [12, 8]\n",
    "plt.style.use('ggplot')\n",
    "pd.set_option('display.max_columns', None)\n",
    "pd.set_option('display.float_format', lambda x: f'{x:.3f}')"
   ]
  },
  {
   "cell_type": "markdown",
   "metadata": {},
   "source": [
    "## Market Label"
   ]
  },
  {
   "cell_type": "code",
   "execution_count": 7,
   "metadata": {},
   "outputs": [],
   "source": [
    "market_label = pd.read_csv('data/aws_market_label.tsv', sep='\\t', parse_dates=['dt'], infer_datetime_format=True, header=None, names=['merchant_code', 'market_code', 'market_name', 'format_id', 'format_name', 'longitude', 'latitude', 'poi_info', 'market_scale_label', 'market_oppor_label', 'market_flow_label', 'market_holiday_label', 'dt'])"
   ]
  },
  {
   "cell_type": "code",
   "execution_count": 8,
   "metadata": {},
   "outputs": [
    {
     "data": {
      "text/html": [
       "<div>\n",
       "<style scoped>\n",
       "    .dataframe tbody tr th:only-of-type {\n",
       "        vertical-align: middle;\n",
       "    }\n",
       "\n",
       "    .dataframe tbody tr th {\n",
       "        vertical-align: top;\n",
       "    }\n",
       "\n",
       "    .dataframe thead th {\n",
       "        text-align: right;\n",
       "    }\n",
       "</style>\n",
       "<table border=\"1\" class=\"dataframe\">\n",
       "  <thead>\n",
       "    <tr style=\"text-align: right;\">\n",
       "      <th></th>\n",
       "      <th>merchant_code</th>\n",
       "      <th>market_code</th>\n",
       "      <th>market_name</th>\n",
       "      <th>format_id</th>\n",
       "      <th>format_name</th>\n",
       "      <th>longitude</th>\n",
       "      <th>latitude</th>\n",
       "      <th>poi_info</th>\n",
       "      <th>market_scale_label</th>\n",
       "      <th>market_oppor_label</th>\n",
       "      <th>market_flow_label</th>\n",
       "      <th>market_holiday_label</th>\n",
       "      <th>dt</th>\n",
       "    </tr>\n",
       "  </thead>\n",
       "  <tbody>\n",
       "    <tr>\n",
       "      <th>0</th>\n",
       "      <td>2440107010111244</td>\n",
       "      <td>00103</td>\n",
       "      <td>福民</td>\n",
       "      <td>3</td>\n",
       "      <td>超市</td>\n",
       "      <td>114.052</td>\n",
       "      <td>22.524</td>\n",
       "      <td>[{\"POI\":\"B02F37U19M\",\"name\":\"天虹商场(福民店)\",\"type\"...</td>\n",
       "      <td>NaN</td>\n",
       "      <td>NaN</td>\n",
       "      <td>NaN</td>\n",
       "      <td>NaN</td>\n",
       "      <td>2019-10-09</td>\n",
       "    </tr>\n",
       "  </tbody>\n",
       "</table>\n",
       "</div>"
      ],
      "text/plain": [
       "      merchant_code market_code market_name  format_id format_name  longitude  \\\n",
       "0  2440107010111244       00103          福民          3          超市    114.052   \n",
       "\n",
       "   latitude                                           poi_info  \\\n",
       "0    22.524  [{\"POI\":\"B02F37U19M\",\"name\":\"天虹商场(福民店)\",\"type\"...   \n",
       "\n",
       "  market_scale_label market_oppor_label market_flow_label  \\\n",
       "0                NaN                NaN               NaN   \n",
       "\n",
       "  market_holiday_label         dt  \n",
       "0                  NaN 2019-10-09  "
      ]
     },
     "execution_count": 8,
     "metadata": {},
     "output_type": "execute_result"
    }
   ],
   "source": [
    "market_label.head(1)"
   ]
  },
  {
   "cell_type": "code",
   "execution_count": 9,
   "metadata": {},
   "outputs": [
    {
     "data": {
      "text/plain": [
       "(2355, 13)"
      ]
     },
     "execution_count": 9,
     "metadata": {},
     "output_type": "execute_result"
    }
   ],
   "source": [
    "market_label.shape"
   ]
  },
  {
   "cell_type": "code",
   "execution_count": 10,
   "metadata": {},
   "outputs": [
    {
     "data": {
      "text/plain": [
       "merchant_code                    int64\n",
       "market_code                     object\n",
       "market_name                     object\n",
       "format_id                        int64\n",
       "format_name                     object\n",
       "longitude                      float64\n",
       "latitude                       float64\n",
       "poi_info                        object\n",
       "market_scale_label              object\n",
       "market_oppor_label              object\n",
       "market_flow_label               object\n",
       "market_holiday_label            object\n",
       "dt                      datetime64[ns]\n",
       "dtype: object"
      ]
     },
     "execution_count": 10,
     "metadata": {},
     "output_type": "execute_result"
    }
   ],
   "source": [
    "market_label.dtypes"
   ]
  },
  {
   "cell_type": "code",
   "execution_count": 11,
   "metadata": {},
   "outputs": [
    {
     "name": "stdout",
     "output_type": "stream",
     "text": [
      "merchant_code: 93 [2440107010111244 2440107010116228 2440107020111022 2440107036669000\n",
      " 2440107039449000] ...\n",
      "market_code: 1821 ['00103' '00104' '00107' '00109' '00110'] ...\n",
      "format_name: 13 ['超市' '购物中心' '便利店' '食品' '百货'] ...\n",
      "market_scale_label: 4 [nan 'C类门店' 'A类门店' 'B类门店'] ...\n",
      "market_oppor_label: 5 [nan '非重点门店' '成熟门店' '明星门店' '机会门店'] ...\n",
      "market_flow_label: 6 [nan '低流量门店' '中高流量门店' '高流量门店' '中流量门店'] ...\n",
      "market_holiday_label: 6 [nan '中高敏感度门店' '高敏感度门店' '中敏感度门店' '中低敏感度门店'] ...\n",
      "dt: 1 ['2019-10-09T00:00:00.000000000'] ...\n"
     ]
    }
   ],
   "source": [
    "market_label_sparse_features = ['merchant_code', 'market_code', 'format_name', 'market_scale_label', 'market_oppor_label', 'market_flow_label', 'market_holiday_label', 'dt']\n",
    "for sparse_feature in market_label_sparse_features:\n",
    "    print(sparse_feature+':', len(market_label[sparse_feature].unique()), market_label[sparse_feature].unique()[:5], '...')"
   ]
  },
  {
   "cell_type": "code",
   "execution_count": 12,
   "metadata": {},
   "outputs": [
    {
     "name": "stdout",
     "output_type": "stream",
     "text": [
      "market_label_keys: 2355\n"
     ]
    }
   ],
   "source": [
    "market_label_keys = market_label.groupby(['merchant_code', 'market_code']).groups.keys()\n",
    "print('market_label_keys:', len(market_label_keys))"
   ]
  },
  {
   "cell_type": "markdown",
   "metadata": {},
   "source": [
    "## User Label"
   ]
  },
  {
   "cell_type": "code",
   "execution_count": 13,
   "metadata": {},
   "outputs": [],
   "source": [
    "user_label = pd.read_csv('data/aws_user_label.csv', sep=',', parse_dates=['dt'], infer_datetime_format=True, header=None, names=['short_id', 'merchant_code', 'format_id', 'format_name', 'province_id', 'province_name', 'city_id', 'city_name', 'buyer_user_id', 'sex', 'age', 'rfm_label', 'pre_payment_label', 'pre_city_label', 'pre_province_label', 'pre_frame_label', 'dt'])"
   ]
  },
  {
   "cell_type": "code",
   "execution_count": 14,
   "metadata": {},
   "outputs": [
    {
     "data": {
      "text/html": [
       "<div>\n",
       "<style scoped>\n",
       "    .dataframe tbody tr th:only-of-type {\n",
       "        vertical-align: middle;\n",
       "    }\n",
       "\n",
       "    .dataframe tbody tr th {\n",
       "        vertical-align: top;\n",
       "    }\n",
       "\n",
       "    .dataframe thead th {\n",
       "        text-align: right;\n",
       "    }\n",
       "</style>\n",
       "<table border=\"1\" class=\"dataframe\">\n",
       "  <thead>\n",
       "    <tr style=\"text-align: right;\">\n",
       "      <th></th>\n",
       "      <th>short_id</th>\n",
       "      <th>merchant_code</th>\n",
       "      <th>format_id</th>\n",
       "      <th>format_name</th>\n",
       "      <th>province_id</th>\n",
       "      <th>province_name</th>\n",
       "      <th>city_id</th>\n",
       "      <th>city_name</th>\n",
       "      <th>buyer_user_id</th>\n",
       "      <th>sex</th>\n",
       "      <th>age</th>\n",
       "      <th>rfm_label</th>\n",
       "      <th>pre_payment_label</th>\n",
       "      <th>pre_city_label</th>\n",
       "      <th>pre_province_label</th>\n",
       "      <th>pre_frame_label</th>\n",
       "      <th>dt</th>\n",
       "    </tr>\n",
       "  </thead>\n",
       "  <tbody>\n",
       "    <tr>\n",
       "      <th>0</th>\n",
       "      <td>1</td>\n",
       "      <td>88911974338715</td>\n",
       "      <td>3</td>\n",
       "      <td>超市</td>\n",
       "      <td>440000</td>\n",
       "      <td>广东省</td>\n",
       "      <td>440300</td>\n",
       "      <td>深圳市</td>\n",
       "      <td>8ef4453659644a8daea008eaf6c2e656</td>\n",
       "      <td>nan</td>\n",
       "      <td>nan</td>\n",
       "      <td>detention</td>\n",
       "      <td>其他</td>\n",
       "      <td>深圳市</td>\n",
       "      <td>广东省</td>\n",
       "      <td>下午</td>\n",
       "      <td>2019-10-09</td>\n",
       "    </tr>\n",
       "  </tbody>\n",
       "</table>\n",
       "</div>"
      ],
      "text/plain": [
       "   short_id   merchant_code  format_id format_name  province_id province_name  \\\n",
       "0         1  88911974338715          3          超市       440000           广东省   \n",
       "\n",
       "   city_id city_name                     buyer_user_id  sex  age  rfm_label  \\\n",
       "0   440300       深圳市  8ef4453659644a8daea008eaf6c2e656  nan  nan  detention   \n",
       "\n",
       "  pre_payment_label pre_city_label pre_province_label pre_frame_label  \\\n",
       "0                其他            深圳市                广东省              下午   \n",
       "\n",
       "          dt  \n",
       "0 2019-10-09  "
      ]
     },
     "execution_count": 14,
     "metadata": {},
     "output_type": "execute_result"
    }
   ],
   "source": [
    "user_label.head(1)"
   ]
  },
  {
   "cell_type": "code",
   "execution_count": 15,
   "metadata": {},
   "outputs": [
    {
     "data": {
      "text/plain": [
       "(14335794, 17)"
      ]
     },
     "execution_count": 15,
     "metadata": {},
     "output_type": "execute_result"
    }
   ],
   "source": [
    "user_label.shape"
   ]
  },
  {
   "cell_type": "code",
   "execution_count": 16,
   "metadata": {},
   "outputs": [
    {
     "data": {
      "text/plain": [
       "short_id                       int64\n",
       "merchant_code                  int64\n",
       "format_id                      int64\n",
       "format_name                   object\n",
       "province_id                    int64\n",
       "province_name                 object\n",
       "city_id                        int64\n",
       "city_name                     object\n",
       "buyer_user_id                 object\n",
       "sex                          float64\n",
       "age                          float64\n",
       "rfm_label                     object\n",
       "pre_payment_label             object\n",
       "pre_city_label                object\n",
       "pre_province_label            object\n",
       "pre_frame_label               object\n",
       "dt                    datetime64[ns]\n",
       "dtype: object"
      ]
     },
     "execution_count": 16,
     "metadata": {},
     "output_type": "execute_result"
    }
   ],
   "source": [
    "user_label.dtypes"
   ]
  },
  {
   "cell_type": "code",
   "execution_count": 17,
   "metadata": {},
   "outputs": [
    {
     "name": "stdout",
     "output_type": "stream",
     "text": [
      "short_id: 50 [ 1 11 26 58 60] ...\n",
      "merchant_code: 93 [  88911974338715   88911659101155   88911831779787 2088431801488876\n",
      " 2088231354393524] ...\n",
      "format_name: 13 ['超市' '便利店' '购物中心' '百货' '医药'] ...\n",
      "province_name: 1 ['广东省'] ...\n",
      "city_name: 1 ['深圳市'] ...\n",
      "buyer_user_id: 10111726 ['8ef4453659644a8daea008eaf6c2e656' '74142fbc610c4fc874c6b8f30d5ddfcb'\n",
      " '92d6850e4e67d61afb0a0ec11795dcd3' 'bcbc1cfa82543e25a9a6d5877e4cb744'\n",
      " 'aa2836abe7be2e3f5d8518390f9fa027'] ...\n",
      "sex: 4 [nan  1.  0.  9.] ...\n",
      "age: 12 [nan  4.  6.  3.  5.] ...\n",
      "rfm_label: 6 ['detention' 'cultivate' 'stingy' 'lost' 'champion'] ...\n",
      "pre_payment_label: 4 ['其他' '支付宝' nan '微信'] ...\n",
      "pre_city_label: 323 ['深圳市' '天津市市辖区' '广州市' '东莞市' '杭州市'] ...\n",
      "pre_province_label: 32 ['广东省' '天津市' '浙江省' nan '北京市'] ...\n",
      "pre_frame_label: 7 ['下午' '晚上' '上午' '中午' '早晨'] ...\n",
      "dt: 1 ['2019-10-09T00:00:00.000000000'] ...\n"
     ]
    }
   ],
   "source": [
    "user_label_sparse_features = ['short_id', 'merchant_code', 'format_name', 'province_name', 'city_name', 'buyer_user_id', 'sex', 'age', 'rfm_label', 'pre_payment_label', 'pre_city_label', 'pre_province_label', 'pre_frame_label', 'dt']\n",
    "for sparse_feature in user_label_sparse_features:\n",
    "    print(sparse_feature+':', len(user_label[sparse_feature].unique()), user_label[sparse_feature].unique()[:5], '...')"
   ]
  },
  {
   "cell_type": "code",
   "execution_count": 18,
   "metadata": {},
   "outputs": [
    {
     "name": "stdout",
     "output_type": "stream",
     "text": [
      "user_label_keys: 14335794\n"
     ]
    }
   ],
   "source": [
    "user_label_keys = user_label.groupby(['short_id', 'format_id', 'buyer_user_id']).groups.keys()\n",
    "print('user_label_keys:', len(user_label_keys))"
   ]
  },
  {
   "cell_type": "markdown",
   "metadata": {},
   "source": [
    "## User Behavior"
   ]
  },
  {
   "cell_type": "code",
   "execution_count": null,
   "metadata": {},
   "outputs": [],
   "source": [
    "user_behavior = pd.read_csv('data/aws_user_behavior.tsv', sep='\\t', parse_dates=['systemdate', 'dt'], infer_datetime_format=True, dtype={'short_id': 'int64', 'merchant_code': 'int64', 'format_id': 'int64', 'province_id': 'int64', 'city_id': 'int64', 'total_fee': 'float64', 'merchantdiscount': 'float64', 'otherdescount': 'float64', 'hour': 'int64', 'week': 'int64'}, header=None, names=['short_id', 'merchant_code', 'format_id', 'format_name', 'province_id', 'province_name', 'city_id', 'city_name', 'buyer_user_id', 'market_code', 'market_name', 'trade_no', 'goods_detail', 'total_fee', 'merchantdiscount', 'otherdescount', 'payment_id', 'hour', 'week', 'systemdate', 'dt'])"
   ]
  },
  {
   "cell_type": "code",
   "execution_count": null,
   "metadata": {},
   "outputs": [],
   "source": [
    "user_behavior.head(5)"
   ]
  },
  {
   "cell_type": "code",
   "execution_count": null,
   "metadata": {},
   "outputs": [],
   "source": [
    "user_behavior.shape"
   ]
  },
  {
   "cell_type": "code",
   "execution_count": null,
   "metadata": {},
   "outputs": [],
   "source": [
    "user_behavior.dtypes"
   ]
  },
  {
   "cell_type": "code",
   "execution_count": null,
   "metadata": {},
   "outputs": [],
   "source": [
    "user_behavior_sparse_features = ['short_id', 'merchant_code', 'format_name', 'province_name', 'city_name', 'buyer_user_id', 'market_code', 'dt']\n",
    "for sparse_feature in user_behavior_sparse_features:\n",
    "    print(sparse_feature+':', len(user_behavior[sparse_feature].unique()), user_behavior[sparse_feature].unique()[:5], '...')"
   ]
  },
  {
   "cell_type": "code",
   "execution_count": null,
   "metadata": {},
   "outputs": [],
   "source": []
  }
 ],
 "metadata": {
  "kernelspec": {
   "display_name": "conda_python3",
   "language": "python",
   "name": "conda_python3"
  },
  "language_info": {
   "codemirror_mode": {
    "name": "ipython",
    "version": 3
   },
   "file_extension": ".py",
   "mimetype": "text/x-python",
   "name": "python",
   "nbconvert_exporter": "python",
   "pygments_lexer": "ipython3",
   "version": "3.6.5"
  }
 },
 "nbformat": 4,
 "nbformat_minor": 4
}
